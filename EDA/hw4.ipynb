{
 "cells": [
  {
   "cell_type": "code",
   "execution_count": 1,
   "id": "initial_id",
   "metadata": {
    "collapsed": true,
    "ExecuteTime": {
     "end_time": "2023-12-14T22:15:17.702632Z",
     "start_time": "2023-12-14T22:15:16.663308Z"
    }
   },
   "outputs": [],
   "source": [
    "import pandas as pd\n",
    "import numpy as np\n",
    "from matplotlib import pyplot as plt\n",
    "\n",
    "from sklearn.metrics import roc_auc_score"
   ]
  },
  {
   "cell_type": "code",
   "execution_count": 2,
   "outputs": [],
   "source": [
    "from src.helpers import read_comments_toxicity_csv, predict_toxicity_probs, stratified_train_test_split\n",
    "from src.toxicity_model import build_toxicity_model"
   ],
   "metadata": {
    "collapsed": false,
    "ExecuteTime": {
     "end_time": "2023-12-14T22:15:19.117987Z",
     "start_time": "2023-12-14T22:15:18.758348Z"
    }
   },
   "id": "1ee92daede635dc0"
  },
  {
   "cell_type": "markdown",
   "source": [
    "Четверта домашня робота: теж змагання на кагл (можна командами по 3 людини). Потрібно класифікувати текст по декільком колонкам\n",
    "Вимоги ті самі до репорту (оцінка за репорт буде 30 балів і 70 за репозиторій), додатково потрібно зробити гітхаб репозиторій для команди.\n",
    "\n",
    "В репозиторії мають бути:\n",
    "- github actions для перевірки стилю (ruff, etc), тестування коду (pytest, etc.) - 15 балів\n",
    "- детальний README  - 10 балів\n",
    "- Ваги фінальної моделі - 5 балів\n",
    "- Inference скрипт який буде скачувати ваги моделі з github і робити передбачення для поданого тексту - 15 балів\n",
    "- тести коду, мінімально допустими test coverage 40%  - 25 балів\n",
    "- папки організувати наступним чином:\n",
    "    - .github/worflows\n",
    "    - EDA - ноутбуки з аналізом даних, підрахунком статистик і тд\n",
    "    - configs - конфіги ваших тренувань ч\n",
    "    - src - ваш код\n",
    "    - tests - тести для вашого коду \n",
    "    - requirements.txt \n",
    "    - Dockerfile (за бажанням)"
   ],
   "metadata": {
    "collapsed": false
   },
   "id": "666b5bd31b5eae93"
  },
  {
   "cell_type": "code",
   "execution_count": 3,
   "outputs": [],
   "source": [
    "RANDOM_STATE = 42"
   ],
   "metadata": {
    "collapsed": false,
    "ExecuteTime": {
     "end_time": "2023-12-14T22:15:25.172881Z",
     "start_time": "2023-12-14T22:15:25.168472Z"
    }
   },
   "id": "70fda0b37d80620c"
  },
  {
   "cell_type": "markdown",
   "source": [
    "Зчитаємо датасет та оцінимо його розміри та повноту."
   ],
   "metadata": {
    "collapsed": false
   },
   "id": "97164a0fbadbe11e"
  },
  {
   "cell_type": "code",
   "execution_count": 4,
   "outputs": [],
   "source": [
    "X_full, y_full = read_comments_toxicity_csv('../data/train.csv')"
   ],
   "metadata": {
    "collapsed": false,
    "ExecuteTime": {
     "end_time": "2023-12-14T22:15:28.269973Z",
     "start_time": "2023-12-14T22:15:27.621050Z"
    }
   },
   "id": "18cc725968a9e04b"
  },
  {
   "cell_type": "code",
   "execution_count": 5,
   "outputs": [
    {
     "data": {
      "text/plain": "                                                       comment_text\nid                                                                 \n0000997932d777bf  Explanation\\nWhy the edits made under my usern...\n000103f0d9cfb60f  D'aww! He matches this background colour I'm s...\n000113f07ec002fd  Hey man, I'm really not trying to edit war. It...\n0001b41b1c6bb37e  \"\\nMore\\nI can't make any real suggestions on ...\n0001d958c54c6e35  You, sir, are my hero. Any chance you remember...",
      "text/html": "<div>\n<style scoped>\n    .dataframe tbody tr th:only-of-type {\n        vertical-align: middle;\n    }\n\n    .dataframe tbody tr th {\n        vertical-align: top;\n    }\n\n    .dataframe thead th {\n        text-align: right;\n    }\n</style>\n<table border=\"1\" class=\"dataframe\">\n  <thead>\n    <tr style=\"text-align: right;\">\n      <th></th>\n      <th>comment_text</th>\n    </tr>\n    <tr>\n      <th>id</th>\n      <th></th>\n    </tr>\n  </thead>\n  <tbody>\n    <tr>\n      <th>0000997932d777bf</th>\n      <td>Explanation\\nWhy the edits made under my usern...</td>\n    </tr>\n    <tr>\n      <th>000103f0d9cfb60f</th>\n      <td>D'aww! He matches this background colour I'm s...</td>\n    </tr>\n    <tr>\n      <th>000113f07ec002fd</th>\n      <td>Hey man, I'm really not trying to edit war. It...</td>\n    </tr>\n    <tr>\n      <th>0001b41b1c6bb37e</th>\n      <td>\"\\nMore\\nI can't make any real suggestions on ...</td>\n    </tr>\n    <tr>\n      <th>0001d958c54c6e35</th>\n      <td>You, sir, are my hero. Any chance you remember...</td>\n    </tr>\n  </tbody>\n</table>\n</div>"
     },
     "execution_count": 5,
     "metadata": {},
     "output_type": "execute_result"
    }
   ],
   "source": [
    "X_full.head()"
   ],
   "metadata": {
    "collapsed": false,
    "ExecuteTime": {
     "end_time": "2023-12-14T22:15:46.912502Z",
     "start_time": "2023-12-14T22:15:46.896211Z"
    }
   },
   "id": "4d2c13208a5b8a79"
  },
  {
   "cell_type": "code",
   "execution_count": 6,
   "outputs": [
    {
     "name": "stdout",
     "output_type": "stream",
     "text": [
      "<class 'pandas.core.frame.DataFrame'>\n",
      "Index: 159571 entries, 0000997932d777bf to fff46fc426af1f9a\n",
      "Data columns (total 1 columns):\n",
      " #   Column        Non-Null Count   Dtype \n",
      "---  ------        --------------   ----- \n",
      " 0   comment_text  159571 non-null  object\n",
      "dtypes: object(1)\n",
      "memory usage: 2.4+ MB\n"
     ]
    }
   ],
   "source": [
    "X_full.info()"
   ],
   "metadata": {
    "collapsed": false,
    "ExecuteTime": {
     "end_time": "2023-12-14T22:16:09.781050Z",
     "start_time": "2023-12-14T22:16:09.778251Z"
    }
   },
   "id": "b6ee199fe741acb1"
  },
  {
   "cell_type": "code",
   "execution_count": 7,
   "outputs": [
    {
     "data": {
      "text/plain": "                  toxic  severe_toxic  obscene  threat  insult  identity_hate\nid                                                                           \n0000997932d777bf      0             0        0       0       0              0\n000103f0d9cfb60f      0             0        0       0       0              0\n000113f07ec002fd      0             0        0       0       0              0\n0001b41b1c6bb37e      0             0        0       0       0              0\n0001d958c54c6e35      0             0        0       0       0              0",
      "text/html": "<div>\n<style scoped>\n    .dataframe tbody tr th:only-of-type {\n        vertical-align: middle;\n    }\n\n    .dataframe tbody tr th {\n        vertical-align: top;\n    }\n\n    .dataframe thead th {\n        text-align: right;\n    }\n</style>\n<table border=\"1\" class=\"dataframe\">\n  <thead>\n    <tr style=\"text-align: right;\">\n      <th></th>\n      <th>toxic</th>\n      <th>severe_toxic</th>\n      <th>obscene</th>\n      <th>threat</th>\n      <th>insult</th>\n      <th>identity_hate</th>\n    </tr>\n    <tr>\n      <th>id</th>\n      <th></th>\n      <th></th>\n      <th></th>\n      <th></th>\n      <th></th>\n      <th></th>\n    </tr>\n  </thead>\n  <tbody>\n    <tr>\n      <th>0000997932d777bf</th>\n      <td>0</td>\n      <td>0</td>\n      <td>0</td>\n      <td>0</td>\n      <td>0</td>\n      <td>0</td>\n    </tr>\n    <tr>\n      <th>000103f0d9cfb60f</th>\n      <td>0</td>\n      <td>0</td>\n      <td>0</td>\n      <td>0</td>\n      <td>0</td>\n      <td>0</td>\n    </tr>\n    <tr>\n      <th>000113f07ec002fd</th>\n      <td>0</td>\n      <td>0</td>\n      <td>0</td>\n      <td>0</td>\n      <td>0</td>\n      <td>0</td>\n    </tr>\n    <tr>\n      <th>0001b41b1c6bb37e</th>\n      <td>0</td>\n      <td>0</td>\n      <td>0</td>\n      <td>0</td>\n      <td>0</td>\n      <td>0</td>\n    </tr>\n    <tr>\n      <th>0001d958c54c6e35</th>\n      <td>0</td>\n      <td>0</td>\n      <td>0</td>\n      <td>0</td>\n      <td>0</td>\n      <td>0</td>\n    </tr>\n  </tbody>\n</table>\n</div>"
     },
     "execution_count": 7,
     "metadata": {},
     "output_type": "execute_result"
    }
   ],
   "source": [
    "y_full.head()"
   ],
   "metadata": {
    "collapsed": false,
    "ExecuteTime": {
     "end_time": "2023-12-14T22:16:55.993246Z",
     "start_time": "2023-12-14T22:16:55.988120Z"
    }
   },
   "id": "3e524450d047e037"
  },
  {
   "cell_type": "code",
   "execution_count": 8,
   "outputs": [
    {
     "data": {
      "text/plain": "               toxic   severe_toxic        obscene         threat  \\\ncount  159571.000000  159571.000000  159571.000000  159571.000000   \nmean        0.095844       0.009996       0.052948       0.002996   \nstd         0.294379       0.099477       0.223931       0.054650   \nmin         0.000000       0.000000       0.000000       0.000000   \n25%         0.000000       0.000000       0.000000       0.000000   \n50%         0.000000       0.000000       0.000000       0.000000   \n75%         0.000000       0.000000       0.000000       0.000000   \nmax         1.000000       1.000000       1.000000       1.000000   \n\n              insult  identity_hate  \ncount  159571.000000  159571.000000  \nmean        0.049364       0.008805  \nstd         0.216627       0.093420  \nmin         0.000000       0.000000  \n25%         0.000000       0.000000  \n50%         0.000000       0.000000  \n75%         0.000000       0.000000  \nmax         1.000000       1.000000  ",
      "text/html": "<div>\n<style scoped>\n    .dataframe tbody tr th:only-of-type {\n        vertical-align: middle;\n    }\n\n    .dataframe tbody tr th {\n        vertical-align: top;\n    }\n\n    .dataframe thead th {\n        text-align: right;\n    }\n</style>\n<table border=\"1\" class=\"dataframe\">\n  <thead>\n    <tr style=\"text-align: right;\">\n      <th></th>\n      <th>toxic</th>\n      <th>severe_toxic</th>\n      <th>obscene</th>\n      <th>threat</th>\n      <th>insult</th>\n      <th>identity_hate</th>\n    </tr>\n  </thead>\n  <tbody>\n    <tr>\n      <th>count</th>\n      <td>159571.000000</td>\n      <td>159571.000000</td>\n      <td>159571.000000</td>\n      <td>159571.000000</td>\n      <td>159571.000000</td>\n      <td>159571.000000</td>\n    </tr>\n    <tr>\n      <th>mean</th>\n      <td>0.095844</td>\n      <td>0.009996</td>\n      <td>0.052948</td>\n      <td>0.002996</td>\n      <td>0.049364</td>\n      <td>0.008805</td>\n    </tr>\n    <tr>\n      <th>std</th>\n      <td>0.294379</td>\n      <td>0.099477</td>\n      <td>0.223931</td>\n      <td>0.054650</td>\n      <td>0.216627</td>\n      <td>0.093420</td>\n    </tr>\n    <tr>\n      <th>min</th>\n      <td>0.000000</td>\n      <td>0.000000</td>\n      <td>0.000000</td>\n      <td>0.000000</td>\n      <td>0.000000</td>\n      <td>0.000000</td>\n    </tr>\n    <tr>\n      <th>25%</th>\n      <td>0.000000</td>\n      <td>0.000000</td>\n      <td>0.000000</td>\n      <td>0.000000</td>\n      <td>0.000000</td>\n      <td>0.000000</td>\n    </tr>\n    <tr>\n      <th>50%</th>\n      <td>0.000000</td>\n      <td>0.000000</td>\n      <td>0.000000</td>\n      <td>0.000000</td>\n      <td>0.000000</td>\n      <td>0.000000</td>\n    </tr>\n    <tr>\n      <th>75%</th>\n      <td>0.000000</td>\n      <td>0.000000</td>\n      <td>0.000000</td>\n      <td>0.000000</td>\n      <td>0.000000</td>\n      <td>0.000000</td>\n    </tr>\n    <tr>\n      <th>max</th>\n      <td>1.000000</td>\n      <td>1.000000</td>\n      <td>1.000000</td>\n      <td>1.000000</td>\n      <td>1.000000</td>\n      <td>1.000000</td>\n    </tr>\n  </tbody>\n</table>\n</div>"
     },
     "execution_count": 8,
     "metadata": {},
     "output_type": "execute_result"
    }
   ],
   "source": [
    "y_full.describe()"
   ],
   "metadata": {
    "collapsed": false,
    "ExecuteTime": {
     "end_time": "2023-12-14T22:17:06.725945Z",
     "start_time": "2023-12-14T22:17:06.701142Z"
    }
   },
   "id": "66e8c91df52d74a5"
  },
  {
   "cell_type": "code",
   "execution_count": 25,
   "outputs": [
    {
     "name": "stdout",
     "output_type": "stream",
     "text": [
      "<class 'pandas.core.frame.DataFrame'>\n",
      "Index: 159571 entries, 0000997932d777bf to fff46fc426af1f9a\n",
      "Data columns (total 6 columns):\n",
      " #   Column         Non-Null Count   Dtype\n",
      "---  ------         --------------   -----\n",
      " 0   toxic          159571 non-null  int64\n",
      " 1   severe_toxic   159571 non-null  int64\n",
      " 2   obscene        159571 non-null  int64\n",
      " 3   threat         159571 non-null  int64\n",
      " 4   insult         159571 non-null  int64\n",
      " 5   identity_hate  159571 non-null  int64\n",
      "dtypes: int64(6)\n",
      "memory usage: 12.6+ MB\n"
     ]
    }
   ],
   "source": [
    "y_full.info()"
   ],
   "metadata": {
    "collapsed": false,
    "ExecuteTime": {
     "end_time": "2023-12-14T22:26:22.359574Z",
     "start_time": "2023-12-14T22:26:22.354311Z"
    }
   },
   "id": "b7eeb61c91266a3c"
  },
  {
   "cell_type": "code",
   "execution_count": 21,
   "outputs": [
    {
     "data": {
      "text/plain": "<Figure size 640x480 with 1 Axes>",
      "image/png": "[encoded data removed]"
     },
     "metadata": {},
     "output_type": "display_data"
    }
   ],
   "source": [
    "y_full.mean(axis='rows').plot(kind='bar');"
   ],
   "metadata": {
    "collapsed": false,
    "ExecuteTime": {
     "end_time": "2023-12-14T22:25:19.182724Z",
     "start_time": "2023-12-14T22:25:19.111973Z"
    }
   },
   "id": "1a751bcbc4d179c0"
  },
  {
   "cell_type": "code",
   "execution_count": 31,
   "outputs": [],
   "source": [
    "X_train_full, X_test, y_train_full, y_test = stratified_train_test_split(X_full, y_full, random_state=RANDOM_STATE)\n",
    "X_train, X_val, y_train, y_val = stratified_train_test_split(X_train_full, y_train_full, random_state=RANDOM_STATE)"
   ],
   "metadata": {
    "collapsed": false,
    "ExecuteTime": {
     "end_time": "2023-12-15T00:33:56.289097Z",
     "start_time": "2023-12-15T00:33:52.506294Z"
    }
   },
   "id": "cb087051e39132b9"
  },
  {
   "cell_type": "markdown",
   "source": [
    "## Бейзлайн"
   ],
   "metadata": {
    "collapsed": false
   },
   "id": "9d8165d5d0d109f5"
  },
  {
   "cell_type": "code",
   "execution_count": 32,
   "outputs": [],
   "source": [
    "model = build_toxicity_model(max_features=100, random_state=RANDOM_STATE)"
   ],
   "metadata": {
    "collapsed": false,
    "ExecuteTime": {
     "end_time": "2023-12-15T00:34:19.283316Z",
     "start_time": "2023-12-15T00:34:19.278756Z"
    }
   },
   "id": "e56949261cdcb4e9"
  },
  {
   "cell_type": "code",
   "execution_count": 33,
   "outputs": [
    {
     "name": "stderr",
     "output_type": "stream",
     "text": [
      "/Users/sonner/courses/uni/ml/ml_hw_final/.env/lib/python3.11/site-packages/sklearn/pipeline.py:377: UserWarning: Persisting input arguments took 0.57s to run.If this happens often in your code, it can cause performance problems (results will be correct in all cases). The reason for this is probably some large input arguments for a wrapped function.\n",
      "  X, fitted_transformer = fit_transform_one_cached(\n"
     ]
    },
    {
     "data": {
      "text/plain": "Pipeline(memory='../tmp',\n         steps=[('preprocess',\n                 FunctionTransformer(func=<function preprocess_data_frame at 0x1412396c0>)),\n                ('tfidf', TfidfVectorizer(max_features=100)),\n                ('clf',\n                 MultiOutputClassifier(estimator=LogisticRegression(max_iter=1000,\n                                                                    n_jobs=6,\n                                                                    random_state=42)))])",
      "text/html": "<style>#sk-container-id-2 {color: black;}#sk-container-id-2 pre{padding: 0;}#sk-container-id-2 div.sk-toggleable {background-color: white;}#sk-container-id-2 label.sk-toggleable__label {cursor: pointer;display: block;width: 100%;margin-bottom: 0;padding: 0.3em;box-sizing: border-box;text-align: center;}#sk-container-id-2 label.sk-toggleable__label-arrow:before {content: \"▸\";float: left;margin-right: 0.25em;color: #696969;}#sk-container-id-2 label.sk-toggleable__label-arrow:hover:before {color: black;}#sk-container-id-2 div.sk-estimator:hover label.sk-toggleable__label-arrow:before {color: black;}#sk-container-id-2 div.sk-toggleable__content {max-height: 0;max-width: 0;overflow: hidden;text-align: left;background-color: #f0f8ff;}#sk-container-id-2 div.sk-toggleable__content pre {margin: 0.2em;color: black;border-radius: 0.25em;background-color: #f0f8ff;}#sk-container-id-2 input.sk-toggleable__control:checked~div.sk-toggleable__content {max-height: 200px;max-width: 100%;overflow: auto;}#sk-container-id-2 input.sk-toggleable__control:checked~label.sk-toggleable__label-arrow:before {content: \"▾\";}#sk-container-id-2 div.sk-estimator input.sk-toggleable__control:checked~label.sk-toggleable__label {background-color: #d4ebff;}#sk-container-id-2 div.sk-label input.sk-toggleable__control:checked~label.sk-toggleable__label {background-color: #d4ebff;}#sk-container-id-2 input.sk-hidden--visually {border: 0;clip: rect(1px 1px 1px 1px);clip: rect(1px, 1px, 1px, 1px);height: 1px;margin: -1px;overflow: hidden;padding: 0;position: absolute;width: 1px;}#sk-container-id-2 div.sk-estimator {font-family: monospace;background-color: #f0f8ff;border: 1px dotted black;border-radius: 0.25em;box-sizing: border-box;margin-bottom: 0.5em;}#sk-container-id-2 div.sk-estimator:hover {background-color: #d4ebff;}#sk-container-id-2 div.sk-parallel-item::after {content: \"\";width: 100%;border-bottom: 1px solid gray;flex-grow: 1;}#sk-container-id-2 div.sk-label:hover label.sk-toggleable__label {background-color: #d4ebff;}#sk-container-id-2 div.sk-serial::before {content: \"\";position: absolute;border-left: 1px solid gray;box-sizing: border-box;top: 0;bottom: 0;left: 50%;z-index: 0;}#sk-container-id-2 div.sk-serial {display: flex;flex-direction: column;align-items: center;background-color: white;padding-right: 0.2em;padding-left: 0.2em;position: relative;}#sk-container-id-2 div.sk-item {position: relative;z-index: 1;}#sk-container-id-2 div.sk-parallel {display: flex;align-items: stretch;justify-content: center;background-color: white;position: relative;}#sk-container-id-2 div.sk-item::before, #sk-container-id-2 div.sk-parallel-item::before {content: \"\";position: absolute;border-left: 1px solid gray;box-sizing: border-box;top: 0;bottom: 0;left: 50%;z-index: -1;}#sk-container-id-2 div.sk-parallel-item {display: flex;flex-direction: column;z-index: 1;position: relative;background-color: white;}#sk-container-id-2 div.sk-parallel-item:first-child::after {align-self: flex-end;width: 50%;}#sk-container-id-2 div.sk-parallel-item:last-child::after {align-self: flex-start;width: 50%;}#sk-container-id-2 div.sk-parallel-item:only-child::after {width: 0;}#sk-container-id-2 div.sk-dashed-wrapped {border: 1px dashed gray;margin: 0 0.4em 0.5em 0.4em;box-sizing: border-box;padding-bottom: 0.4em;background-color: white;}#sk-container-id-2 div.sk-label label {font-family: monospace;font-weight: bold;display: inline-block;line-height: 1.2em;}#sk-container-id-2 div.sk-label-container {text-align: center;}#sk-container-id-2 div.sk-container {/* jupyter's `normalize.less` sets `[hidden] { display: none; }` but bootstrap.min.css set `[hidden] { display: none !important; }` so we also need the `!important` here to be able to override the default hidden behavior on the sphinx rendered scikit-learn.org. See: https://github.com/scikit-learn/scikit-learn/issues/21755 */display: inline-block !important;position: relative;}#sk-container-id-2 div.sk-text-repr-fallback {display: none;}</style><div id=\"sk-container-id-2\" class=\"sk-top-container\"><div class=\"sk-text-repr-fallback\"><pre>Pipeline(memory=&#x27;../tmp&#x27;,\n         steps=[(&#x27;preprocess&#x27;,\n                 FunctionTransformer(func=&lt;function preprocess_data_frame at 0x1412396c0&gt;)),\n                (&#x27;tfidf&#x27;, TfidfVectorizer(max_features=100)),\n                (&#x27;clf&#x27;,\n                 MultiOutputClassifier(estimator=LogisticRegression(max_iter=1000,\n                                                                    n_jobs=6,\n                                                                    random_state=42)))])</pre><b>In a Jupyter environment, please rerun this cell to show the HTML representation or trust the notebook. <br />On GitHub, the HTML representation is unable to render, please try loading this page with nbviewer.org.</b></div><div class=\"sk-container\" hidden><div class=\"sk-item sk-dashed-wrapped\"><div class=\"sk-label-container\"><div class=\"sk-label sk-toggleable\"><input class=\"sk-toggleable__control sk-hidden--visually\" id=\"sk-estimator-id-7\" type=\"checkbox\" ><label for=\"sk-estimator-id-7\" class=\"sk-toggleable__label sk-toggleable__label-arrow\">Pipeline</label><div class=\"sk-toggleable__content\"><pre>Pipeline(memory=&#x27;../tmp&#x27;,\n         steps=[(&#x27;preprocess&#x27;,\n                 FunctionTransformer(func=&lt;function preprocess_data_frame at 0x1412396c0&gt;)),\n                (&#x27;tfidf&#x27;, TfidfVectorizer(max_features=100)),\n                (&#x27;clf&#x27;,\n                 MultiOutputClassifier(estimator=LogisticRegression(max_iter=1000,\n                                                                    n_jobs=6,\n                                                                    random_state=42)))])</pre></div></div></div><div class=\"sk-serial\"><div class=\"sk-item\"><div class=\"sk-estimator sk-toggleable\"><input class=\"sk-toggleable__control sk-hidden--visually\" id=\"sk-estimator-id-8\" type=\"checkbox\" ><label for=\"sk-estimator-id-8\" class=\"sk-toggleable__label sk-toggleable__label-arrow\">FunctionTransformer</label><div class=\"sk-toggleable__content\"><pre>FunctionTransformer(func=&lt;function preprocess_data_frame at 0x1412396c0&gt;)</pre></div></div></div><div class=\"sk-item\"><div class=\"sk-estimator sk-toggleable\"><input class=\"sk-toggleable__control sk-hidden--visually\" id=\"sk-estimator-id-9\" type=\"checkbox\" ><label for=\"sk-estimator-id-9\" class=\"sk-toggleable__label sk-toggleable__label-arrow\">TfidfVectorizer</label><div class=\"sk-toggleable__content\"><pre>TfidfVectorizer(max_features=100)</pre></div></div></div><div class=\"sk-item sk-dashed-wrapped\"><div class=\"sk-label-container\"><div class=\"sk-label sk-toggleable\"><input class=\"sk-toggleable__control sk-hidden--visually\" id=\"sk-estimator-id-10\" type=\"checkbox\" ><label for=\"sk-estimator-id-10\" class=\"sk-toggleable__label sk-toggleable__label-arrow\">clf: MultiOutputClassifier</label><div class=\"sk-toggleable__content\"><pre>MultiOutputClassifier(estimator=LogisticRegression(max_iter=1000, n_jobs=6,\n                                                   random_state=42))</pre></div></div></div><div class=\"sk-parallel\"><div class=\"sk-parallel-item\"><div class=\"sk-item\"><div class=\"sk-label-container\"><div class=\"sk-label sk-toggleable\"><input class=\"sk-toggleable__control sk-hidden--visually\" id=\"sk-estimator-id-11\" type=\"checkbox\" ><label for=\"sk-estimator-id-11\" class=\"sk-toggleable__label sk-toggleable__label-arrow\">estimator: LogisticRegression</label><div class=\"sk-toggleable__content\"><pre>LogisticRegression(max_iter=1000, n_jobs=6, random_state=42)</pre></div></div></div><div class=\"sk-serial\"><div class=\"sk-item\"><div class=\"sk-estimator sk-toggleable\"><input class=\"sk-toggleable__control sk-hidden--visually\" id=\"sk-estimator-id-12\" type=\"checkbox\" ><label for=\"sk-estimator-id-12\" class=\"sk-toggleable__label sk-toggleable__label-arrow\">LogisticRegression</label><div class=\"sk-toggleable__content\"><pre>LogisticRegression(max_iter=1000, n_jobs=6, random_state=42)</pre></div></div></div></div></div></div></div></div></div></div></div></div>"
     },
     "execution_count": 33,
     "metadata": {},
     "output_type": "execute_result"
    }
   ],
   "source": [
    "model.fit(X_train, y_train)"
   ],
   "metadata": {
    "collapsed": false,
    "ExecuteTime": {
     "end_time": "2023-12-15T00:35:21.445873Z",
     "start_time": "2023-12-15T00:34:19.845053Z"
    }
   },
   "id": "435eedbaf1e5ede2"
  },
  {
   "cell_type": "code",
   "execution_count": 34,
   "outputs": [
    {
     "data": {
      "text/plain": "0.8849997142580693"
     },
     "execution_count": 34,
     "metadata": {},
     "output_type": "execute_result"
    }
   ],
   "source": [
    "roc_auc_score(y_train, predict_toxicity_probs(X_train, model))"
   ],
   "metadata": {
    "collapsed": false,
    "ExecuteTime": {
     "end_time": "2023-12-15T00:36:14.540003Z",
     "start_time": "2023-12-15T00:35:21.484905Z"
    }
   },
   "id": "9bbceba93ab08b39"
  },
  {
   "cell_type": "code",
   "execution_count": 35,
   "outputs": [
    {
     "data": {
      "text/plain": "0.8696808393700267"
     },
     "execution_count": 35,
     "metadata": {},
     "output_type": "execute_result"
    }
   ],
   "source": [
    "roc_auc_score(y_val, predict_toxicity_probs(X_val, model))"
   ],
   "metadata": {
    "collapsed": false,
    "ExecuteTime": {
     "end_time": "2023-12-15T00:36:32.398133Z",
     "start_time": "2023-12-15T00:36:14.543316Z"
    }
   },
   "id": "5ef5a92c630e72de"
  },
  {
   "cell_type": "code",
   "execution_count": 36,
   "outputs": [
    {
     "name": "stderr",
     "output_type": "stream",
     "text": [
      "/Users/sonner/courses/uni/ml/ml_hw_final/.env/lib/python3.11/site-packages/sklearn/pipeline.py:377: UserWarning: Persisting input arguments took 0.76s to run.If this happens often in your code, it can cause performance problems (results will be correct in all cases). The reason for this is probably some large input arguments for a wrapped function.\n",
      "  X, fitted_transformer = fit_transform_one_cached(\n",
      "/Users/sonner/courses/uni/ml/ml_hw_final/.env/lib/python3.11/site-packages/sklearn/pipeline.py:377: UserWarning: Persisting input arguments took 0.79s to run.If this happens often in your code, it can cause performance problems (results will be correct in all cases). The reason for this is probably some large input arguments for a wrapped function.\n",
      "  X, fitted_transformer = fit_transform_one_cached(\n",
      "/Users/sonner/courses/uni/ml/ml_hw_final/.env/lib/python3.11/site-packages/sklearn/pipeline.py:377: UserWarning: Persisting input arguments took 1.00s to run.If this happens often in your code, it can cause performance problems (results will be correct in all cases). The reason for this is probably some large input arguments for a wrapped function.\n",
      "  X, fitted_transformer = fit_transform_one_cached(\n"
     ]
    }
   ],
   "source": [
    "model_selection_results = []\n",
    "for max_features in [100, 5000, 10000, 20000]:\n",
    "    model = build_toxicity_model(max_features=max_features, random_state=RANDOM_STATE)\n",
    "    model.fit(X_train, y_train)\n",
    "    model_selection_results.append([\n",
    "        max_features,\n",
    "        roc_auc_score(y_train, predict_toxicity_probs(X_train, model)),\n",
    "        roc_auc_score(y_val, predict_toxicity_probs(X_val, model)),\n",
    "    ])"
   ],
   "metadata": {
    "collapsed": false,
    "ExecuteTime": {
     "end_time": "2023-12-15T00:43:23.161925Z",
     "start_time": "2023-12-15T00:37:58.132634Z"
    }
   },
   "id": "97e6ad7d789859ed"
  },
  {
   "cell_type": "code",
   "execution_count": 37,
   "outputs": [
    {
     "data": {
      "text/plain": "   max_features  train score  validation score\n0           100     0.885000          0.869681\n1          5000     0.986097          0.976090\n2         10000     0.987791          0.977954\n3         20000     0.988839          0.978695",
      "text/html": "<div>\n<style scoped>\n    .dataframe tbody tr th:only-of-type {\n        vertical-align: middle;\n    }\n\n    .dataframe tbody tr th {\n        vertical-align: top;\n    }\n\n    .dataframe thead th {\n        text-align: right;\n    }\n</style>\n<table border=\"1\" class=\"dataframe\">\n  <thead>\n    <tr style=\"text-align: right;\">\n      <th></th>\n      <th>max_features</th>\n      <th>train score</th>\n      <th>validation score</th>\n    </tr>\n  </thead>\n  <tbody>\n    <tr>\n      <th>0</th>\n      <td>100</td>\n      <td>0.885000</td>\n      <td>0.869681</td>\n    </tr>\n    <tr>\n      <th>1</th>\n      <td>5000</td>\n      <td>0.986097</td>\n      <td>0.976090</td>\n    </tr>\n    <tr>\n      <th>2</th>\n      <td>10000</td>\n      <td>0.987791</td>\n      <td>0.977954</td>\n    </tr>\n    <tr>\n      <th>3</th>\n      <td>20000</td>\n      <td>0.988839</td>\n      <td>0.978695</td>\n    </tr>\n  </tbody>\n</table>\n</div>"
     },
     "execution_count": 37,
     "metadata": {},
     "output_type": "execute_result"
    }
   ],
   "source": [
    "model_selection_df = pd.DataFrame(model_selection_results, columns=['max_features', 'train score', 'validation score'])\n",
    "model_selection_df"
   ],
   "metadata": {
    "collapsed": false,
    "ExecuteTime": {
     "end_time": "2023-12-15T00:43:23.166628Z",
     "start_time": "2023-12-15T00:43:23.164392Z"
    }
   },
   "id": "304c4e6c3fba3ab3"
  },
  {
   "cell_type": "markdown",
   "source": [
    "## Висновок"
   ],
   "metadata": {
    "collapsed": false
   },
   "id": "94b7243a21e76a1d"
  },
  {
   "cell_type": "markdown",
   "source": [
    "За допомогою станртних підходів обробки тексту розвʼязана (roc_auc_score > 0.97) задача multi label класифікації.\n",
    "\n",
    "Результат оформлено у вигляді репозиторію з автоматизацією тренування, інференсу (batch та інтерактивного), тестами."
   ],
   "metadata": {
    "collapsed": false
   },
   "id": "1cbd87601ec7602c"
  },
  {
   "cell_type": "markdown",
   "source": [],
   "metadata": {
    "collapsed": false
   },
   "id": "fab5c1f7dff755b6"
  }
 ],
 "metadata": {
  "kernelspec": {
   "display_name": "Python 3",
   "language": "python",
   "name": "python3"
  },
  "language_info": {
   "codemirror_mode": {
    "name": "ipython",
    "version": 2
   },
   "file_extension": ".py",
   "mimetype": "text/x-python",
   "name": "python",
   "nbconvert_exporter": "python",
   "pygments_lexer": "ipython2",
   "version": "2.7.6"
  }
 },
 "nbformat": 4,
 "nbformat_minor": 5
}
